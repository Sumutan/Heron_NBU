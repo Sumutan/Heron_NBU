{
 "cells": [
  {
   "cell_type": "code",
   "execution_count": null,
   "outputs": [],
   "source": [
    "###模板"
   ],
   "metadata": {
    "collapsed": false
   }
  },
  {
   "cell_type": "code",
   "execution_count": null,
   "outputs": [],
   "source": [
    "# 下载文件/文件夹\n",
    "import moxing as mox\n",
    "\n",
    "obs_path = 'obs://heron-mask/output/finetune_mask_100_surveillance_401cls_clstoken/model-90_583.ckpt'\n",
    "workspace_path = '/home/ma-user/work/code/cls_model-90_583.ckpt'\n",
    "\n",
    "mox.file.copy_parallel(obs_path, workspace_path)   # 从obs上下载 整个数据集"
   ],
   "metadata": {
    "collapsed": false
   }
  },
  {
   "cell_type": "code",
   "execution_count": null,
   "id": "aff55bf7-ef1f-443f-a39c-2269a146892b",
   "metadata": {},
   "outputs": [],
   "source": [
    "# 上传文件/文件夹\n",
    "\n",
    "import moxing as mox\n",
    "\n",
    "workspace_path = '/home/ma-user/work/code'\n",
    "obs_path = 'obs://heron-nbu/jupyter notebook/code'\n",
    "\n",
    "mox.file.copy_parallel(workspace_path, obs_path)   # 从obs上下载 整个数据集"
   ]
  },
  {
   "cell_type": "code",
   "execution_count": null,
   "outputs": [],
   "source": [
    "#pretrain model convert to finetune model\n",
    "import mindspore as ms\n",
    "\n",
    "ckpt_file=\"model-800_292.ckpt\"\n",
    "state_dict = ms.load_checkpoint(ckpt_file)\n",
    "\n",
    "encoder_ckpt_path = ckpt_file.split('.')[0] + '_encoder.ckpt'\n",
    "encoder_state_dict = []\n",
    "for k, v in state_dict.items():\n",
    "    if k.startswith('encoder.'):\n",
    "        print(k)\n",
    "        if k.find('norm.') >= 0:\n",
    "            k = k.replace('norm.', 'fc_norm.')\n",
    "        encoder_state_dict.append({'name': k, 'data': v})\n",
    "\n",
    "ms.save_checkpoint(encoder_state_dict, encoder_ckpt_path)"
   ],
   "metadata": {
    "collapsed": false
   }
  },
  {
   "cell_type": "code",
   "execution_count": null,
   "outputs": [],
   "source": [
    "#同步项目文件夹（upload）\n",
    "import moxing as mox\n",
    "\n",
    "upload=True #False means down load\n",
    "workspace_path = '/home/ma-user/work/code/heron-mask'\n",
    "obs_path = 'obs://heron-mask/code/heron_-nbu/'\n",
    "\n",
    "if upload:\n",
    "    mox.file.copy_parallel(workspace_path, obs_path)\n",
    "else:\n",
    "    mox.file.copy_parallel(obs_path, workspace_path)"
   ],
   "metadata": {
    "collapsed": false
   }
  },
  {
   "cell_type": "code",
   "execution_count": null,
   "outputs": [],
   "source": [],
   "metadata": {
    "collapsed": false
   }
  }
 ],
 "metadata": {
  "kernelspec": {
   "display_name": "MindSpore",
   "language": "python",
   "name": "mindspore"
  },
  "language_info": {
   "codemirror_mode": {
    "name": "ipython",
    "version": 3
   },
   "file_extension": ".py",
   "mimetype": "text/x-python",
   "name": "python",
   "nbconvert_exporter": "python",
   "pygments_lexer": "ipython3",
   "version": "3.7.10"
  }
 },
 "nbformat": 4,
 "nbformat_minor": 5
}
