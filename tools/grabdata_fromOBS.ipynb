{
 "cells": [
  {
   "cell_type": "code",
   "execution_count": 1,
   "id": "fd1053e5-aedb-45e1-bc19-db309a366c7c",
   "metadata": {
    "pycharm": {
     "name": "#%%\n"
    }
   },
   "outputs": [
    {
     "name": "stderr",
     "output_type": "stream",
     "text": [
      "INFO:root:Using MoXing-v2.0.1.rc0.ffd1c0c8-ffd1c0c8\n",
      "INFO:root:Using OBS-Python-SDK-3.20.9.1\n",
      "INFO:root:Listing OBS: 1000\n",
      "INFO:root:pid: None.\t1000/1100\n"
     ]
    },
    {
     "name": "stdout",
     "output_type": "stream",
     "text": [
      "Upload data dir Kinetics-400/train/25y\n"
     ]
    },
    {
     "name": "stderr",
     "output_type": "stream",
     "text": [
      "INFO:root:Listing OBS: 1000\n",
      "INFO:root:Listing OBS: 2000\n",
      "INFO:root:Listing OBS: 3000\n",
      "INFO:root:pid: None.\t1000/3878\n",
      "INFO:root:pid: None.\t2000/3878\n",
      "INFO:root:pid: None.\t3000/3878\n"
     ]
    },
    {
     "name": "stdout",
     "output_type": "stream",
     "text": [
      "Upload data dir Kinetics-400/train/23w2\n"
     ]
    },
    {
     "name": "stderr",
     "output_type": "stream",
     "text": [
      "INFO:root:Listing OBS: 1000\n",
      "INFO:root:Listing OBS: 2000\n",
      "INFO:root:Listing OBS: 3000\n",
      "INFO:root:Listing OBS: 4000\n",
      "INFO:root:Listing OBS: 5000\n",
      "INFO:root:Listing OBS: 6000\n",
      "INFO:root:Listing OBS: 7000\n",
      "INFO:root:pid: None.\t1000/7380\n",
      "INFO:root:pid: None.\t2000/7380\n",
      "INFO:root:pid: None.\t3000/7380\n",
      "INFO:root:pid: None.\t4000/7380\n",
      "INFO:root:pid: None.\t5000/7380\n",
      "INFO:root:pid: None.\t6000/7380\n",
      "INFO:root:pid: None.\t7000/7380\n"
     ]
    },
    {
     "name": "stdout",
     "output_type": "stream",
     "text": [
      "Upload data dir Kinetics-400/train/23w1\n",
      "Upload data dir Kinetics-400/train/22v\n"
     ]
    },
    {
     "name": "stderr",
     "output_type": "stream",
     "text": [
      "INFO:root:Listing OBS: 1000\n",
      "INFO:root:Listing OBS: 2000\n",
      "INFO:root:pid: None.\t1000/2240\n",
      "INFO:root:pid: None.\t2000/2240\n"
     ]
    },
    {
     "name": "stdout",
     "output_type": "stream",
     "text": [
      "Upload data dir Kinetics-400/train/21u\n"
     ]
    },
    {
     "name": "stderr",
     "output_type": "stream",
     "text": [
      "INFO:root:Listing OBS: 1000\n",
      "INFO:root:Listing OBS: 2000\n",
      "INFO:root:Listing OBS: 3000\n",
      "INFO:root:Listing OBS: 4000\n",
      "INFO:root:Listing OBS: 5000\n",
      "INFO:root:pid: None.\t1000/5822\n",
      "INFO:root:pid: None.\t2000/5822\n",
      "INFO:root:pid: None.\t3000/5822\n",
      "INFO:root:pid: None.\t4000/5822\n",
      "INFO:root:pid: None.\t5000/5822\n"
     ]
    },
    {
     "name": "stdout",
     "output_type": "stream",
     "text": [
      "Upload data dir Kinetics-400/train/20t2\n"
     ]
    }
   ],
   "source": [
    "# 导入数据集\n",
    "\n",
    "import moxing as mox\n",
    "obs_path = 'obs://kinetics400/K400/'\n",
    "workspace_path = '/home/ma-user/work/dataset/k400/'\n",
    "\n",
    "mox.file.copy_parallel(obs_path, workspace_path)   # 从obs上下载 整个数据集"
   ]
  }
 ],
 "metadata": {
  "kernelspec": {
   "display_name": "zsz_ms1.9",
   "language": "python",
   "name": "python3"
  },
  "language_info": {
   "codemirror_mode": {
    "name": "ipython",
    "version": 3
   },
   "file_extension": ".py",
   "mimetype": "text/x-python",
   "name": "python",
   "nbconvert_exporter": "python",
   "pygments_lexer": "ipython3",
   "version": "3.7.13 (default, Mar 28 2022, 12:46:38) \n[GCC 10.2.0]"
  },
  "vscode": {
   "interpreter": {
    "hash": "57b23b41d0fd5a7047c752531ddcd47d014acb363a4fa817c40a1d04c74da6a5"
   }
  }
 },
 "nbformat": 4,
 "nbformat_minor": 5
}