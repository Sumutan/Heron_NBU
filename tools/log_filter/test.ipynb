{
 "cells": [
  {
   "cell_type": "code",
   "execution_count": 1,
   "metadata": {
    "collapsed": true,
    "pycharm": {
     "name": "#%%\n"
    }
   },
   "outputs": [],
   "source": [
    "\"\"\"\n",
    "读取指定文件夹中的多个日志文件，解析每个日志文件中的训练指标，并计算多次训练的平均训练指标。最终将平均训练指标写入一个txt文件中\n",
    "\"\"\"\n",
    "import os\n",
    "from glob import glob\n",
    "\n",
    "logs_dir = r'E:\\训练作业输出\\5.22 finetune 100B surveillance\\rawLog'\n",
    "\n",
    "logs_name = os.listdir(logs_dir)\n",
    "\n",
    "save_txt = open(logs_dir + '.txt', 'w')\n",
    "result_dict = {}"
   ]
  },
  {
   "cell_type": "code",
   "execution_count": 2,
   "outputs": [
    {
     "data": {
      "text/plain": "['modelarts-job-5ef201d4-ead5-483e-a094-705a1cec369d-worker-0.log',\n 'modelarts-job-5ef201d4-ead5-483e-a094-705a1cec369d-worker-1.log',\n 'modelarts-job-5ef201d4-ead5-483e-a094-705a1cec369d-worker-10.log',\n 'modelarts-job-5ef201d4-ead5-483e-a094-705a1cec369d-worker-11.log',\n 'modelarts-job-5ef201d4-ead5-483e-a094-705a1cec369d-worker-12.log',\n 'modelarts-job-5ef201d4-ead5-483e-a094-705a1cec369d-worker-13.log',\n 'modelarts-job-5ef201d4-ead5-483e-a094-705a1cec369d-worker-14.log',\n 'modelarts-job-5ef201d4-ead5-483e-a094-705a1cec369d-worker-15.log',\n 'modelarts-job-5ef201d4-ead5-483e-a094-705a1cec369d-worker-2.log',\n 'modelarts-job-5ef201d4-ead5-483e-a094-705a1cec369d-worker-3.log',\n 'modelarts-job-5ef201d4-ead5-483e-a094-705a1cec369d-worker-4.log',\n 'modelarts-job-5ef201d4-ead5-483e-a094-705a1cec369d-worker-5.log',\n 'modelarts-job-5ef201d4-ead5-483e-a094-705a1cec369d-worker-6.log',\n 'modelarts-job-5ef201d4-ead5-483e-a094-705a1cec369d-worker-7.log',\n 'modelarts-job-5ef201d4-ead5-483e-a094-705a1cec369d-worker-8.log',\n 'modelarts-job-5ef201d4-ead5-483e-a094-705a1cec369d-worker-9.log']"
     },
     "execution_count": 2,
     "metadata": {},
     "output_type": "execute_result"
    }
   ],
   "source": [
    "logs_name"
   ],
   "metadata": {
    "collapsed": false,
    "pycharm": {
     "name": "#%%\n"
    }
   }
  },
  {
   "cell_type": "code",
   "execution_count": 3,
   "outputs": [
    {
     "ename": "KeyError",
     "evalue": "'modelarts-job-5ef201d4-ead5-483e-a094-705a1cec369d-worker-1.log'",
     "output_type": "error",
     "traceback": [
      "\u001B[1;31m---------------------------------------------------------------------------\u001B[0m",
      "\u001B[1;31mKeyError\u001B[0m                                  Traceback (most recent call last)",
      "Cell \u001B[1;32mIn[3], line 34\u001B[0m\n\u001B[0;32m     32\u001B[0m loss_result \u001B[38;5;241m=\u001B[39m []\n\u001B[0;32m     33\u001B[0m \u001B[38;5;28;01mfor\u001B[39;00m log \u001B[38;5;129;01min\u001B[39;00m logs_name:\n\u001B[1;32m---> 34\u001B[0m     acc1_result\u001B[38;5;241m.\u001B[39mappend(\u001B[43mresult_dict\u001B[49m\u001B[43m[\u001B[49m\u001B[43mlog\u001B[49m\u001B[43m]\u001B[49m[\u001B[38;5;124m'\u001B[39m\u001B[38;5;124macc1\u001B[39m\u001B[38;5;124m'\u001B[39m])\n\u001B[0;32m     35\u001B[0m     acc5_result\u001B[38;5;241m.\u001B[39mappend(result_dict[log][\u001B[38;5;124m'\u001B[39m\u001B[38;5;124macc5\u001B[39m\u001B[38;5;124m'\u001B[39m])\n\u001B[0;32m     36\u001B[0m     loss_result\u001B[38;5;241m.\u001B[39mappend(result_dict[log][\u001B[38;5;124m'\u001B[39m\u001B[38;5;124mloss\u001B[39m\u001B[38;5;124m'\u001B[39m])\n",
      "\u001B[1;31mKeyError\u001B[0m: 'modelarts-job-5ef201d4-ead5-483e-a094-705a1cec369d-worker-1.log'"
     ]
    }
   ],
   "source": [
    "\n",
    "for log in logs_name:\n",
    "    path = os.path.join(logs_dir, log)\n",
    "    result_dict[log] = {'acc1': [], 'acc5': [], 'loss': []}\n",
    "    with open(path, 'r', encoding='utf-8') as f:\n",
    "        log_info = f.readlines()\n",
    "\n",
    "        count_num = 0\n",
    "        acc1, acc5, loss = 0, 0, 0\n",
    "        for line in log_info:\n",
    "            if 'acc1' in line and 'acc5' in line and 'eval_loss' in line:\n",
    "                acc1_ = float(line.split('\\'acc1\\': ')[1].split(', \\'acc5\\'')[0])\n",
    "                acc5_ = float(line.split('\\'acc5\\': ')[1].split(', \\'eval_loss\\'')[0])\n",
    "                eval_loss_ = float(line.split('\\'eval_loss\\': ')[1].split('}')[0])\n",
    "\n",
    "                if count_num % 8 == 0 and count_num != 0:\n",
    "                    acc1 = acc1_\n",
    "                    acc5 = acc5_\n",
    "                    loss = eval_loss_\n",
    "                else:\n",
    "                    acc1 += acc1_\n",
    "                    acc5 += acc5_\n",
    "                    loss += eval_loss_\n",
    "\n",
    "                count_num += 1\n",
    "                if count_num % 8 == 0 and count_num > 0:\n",
    "                    result_dict[log]['acc1'].append(acc1 / 8)\n",
    "                    result_dict[log]['acc5'].append(acc5 / 8)\n",
    "                    result_dict[log]['loss'].append(loss / 8)\n",
    "\n",
    "    acc1_result = []\n",
    "    acc5_result = []\n",
    "    loss_result = []\n",
    "    for log in logs_name:\n",
    "        acc1_result.append(result_dict[log]['acc1'])\n",
    "        acc5_result.append(result_dict[log]['acc5'])\n",
    "        loss_result.append(result_dict[log]['loss'])\n",
    "\n",
    "    import numpy as np\n",
    "\n",
    "    acc1_result_np = np.array(acc1_result)\n",
    "    acc5_result_np = np.array(acc5_result)\n",
    "    loss_result_np = np.array(loss_result)\n",
    "    acc1_mean = np.mean(acc1_result_np, axis=0)\n",
    "    acc5_mean = np.mean(acc5_result_np, axis=0)\n",
    "    loss_mean = np.mean(loss_result_np, axis=0)\n",
    "\n",
    "    for acc1, acc5, loss in zip(acc1_mean, acc5_mean, loss_mean):\n",
    "        save_txt.write(f'acc1:{acc1},acc5:{acc5},eval_loss:{loss}\\n')"
   ],
   "metadata": {
    "collapsed": false,
    "pycharm": {
     "name": "#%%\n"
    }
   }
  },
  {
   "cell_type": "code",
   "execution_count": null,
   "outputs": [],
   "source": [],
   "metadata": {
    "collapsed": false,
    "pycharm": {
     "name": "#%%\n"
    }
   }
  }
 ],
 "metadata": {
  "kernelspec": {
   "display_name": "Python 3",
   "language": "python",
   "name": "python3"
  },
  "language_info": {
   "codemirror_mode": {
    "name": "ipython",
    "version": 2
   },
   "file_extension": ".py",
   "mimetype": "text/x-python",
   "name": "python",
   "nbconvert_exporter": "python",
   "pygments_lexer": "ipython2",
   "version": "2.7.6"
  }
 },
 "nbformat": 4,
 "nbformat_minor": 0
}